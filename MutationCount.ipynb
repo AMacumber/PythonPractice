{
 "cells": [
  {
   "cell_type": "code",
   "execution_count": 16,
   "metadata": {},
   "outputs": [],
   "source": [
    "def mutationcount(start, end):\n",
    "\n",
    "    count = 0\n",
    "\n",
    "    for x in range(0, len(start)):\n",
    "        if start[x] == end[x]:\n",
    "            count = count + 0\n",
    "        if start[x] != end[x]:\n",
    "            count = count + 1\n",
    "\n",
    "    print(count)"
   ]
  },
  {
   "cell_type": "code",
   "execution_count": 17,
   "metadata": {},
   "outputs": [
    {
     "name": "stdout",
     "output_type": "stream",
     "text": [
      "1\n"
     ]
    }
   ],
   "source": [
    "# Example 1\n",
    "\n",
    "start = \"AACCGGTT\"\n",
    "end = \"AACCGGTA\"\n",
    "bank = [\"AACCGGTA\"]\n",
    "\n",
    "mutationcount(start, end)"
   ]
  },
  {
   "cell_type": "code",
   "execution_count": 18,
   "metadata": {},
   "outputs": [
    {
     "name": "stdout",
     "output_type": "stream",
     "text": [
      "2\n"
     ]
    }
   ],
   "source": [
    "# Example 2\n",
    "\n",
    "start = \"AACCGGTT\"\n",
    "end = \"AAACGGTA\"\n",
    "bank = [\"AACCGGTA\", \"AACCGCTA\", \"AAACGGTA\"]\n",
    "\n",
    "mutationcount(start, end)"
   ]
  },
  {
   "cell_type": "code",
   "execution_count": 19,
   "metadata": {},
   "outputs": [
    {
     "name": "stdout",
     "output_type": "stream",
     "text": [
      "3\n"
     ]
    }
   ],
   "source": [
    "# Example 3\n",
    "\n",
    "start = \"AAAAACCC\"\n",
    "end = \"AACCCCCC\"\n",
    "bank = [\"AAAACCCC\", \"AAACCCCC\", \"AACCCCCC\"]\n",
    "\n",
    "mutationcount(start, end)"
   ]
  }
 ],
 "metadata": {
  "kernelspec": {
   "display_name": "Python 3",
   "language": "python",
   "name": "python3"
  },
  "language_info": {
   "codemirror_mode": {
    "name": "ipython",
    "version": 3
   },
   "file_extension": ".py",
   "mimetype": "text/x-python",
   "name": "python",
   "nbconvert_exporter": "python",
   "pygments_lexer": "ipython3",
   "version": "3.7.3"
  }
 },
 "nbformat": 4,
 "nbformat_minor": 2
}
