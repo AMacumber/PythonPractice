{
 "cells": [
  {
   "cell_type": "markdown",
   "metadata": {},
   "source": [
    "# Financial Planner\n",
    "\n",
    "Create a class object that will store information and can be queried to find out many months are left at the current budget. What is the new budget if more months are added."
   ]
  },
  {
   "cell_type": "code",
   "execution_count": 121,
   "metadata": {},
   "outputs": [],
   "source": [
    "class FinancePlan(object):\n",
    "    \n",
    "    def __init__(self, MonthBudget = 3000, TotalSavings = 12000, addmonths=None, minbudget = None):\n",
    "        self.MonthBudget = MonthBudget\n",
    "        self.TotalSavings = TotalSavings\n",
    "        self.addmonths = addmonths\n",
    "        self.minbudget = minbudget\n",
    "                        \n",
    "    def MonthsLeft(self):\n",
    "        monthsleft = int(round(self.TotalSavings / self.MonthBudget, 0))\n",
    "        print(\"You have {} months left.\".format(monthsleft))\n",
    "        \n",
    "    def NewBudget_AddMonths(self, addmonths):\n",
    "        NumberMonths = int(round(((self.TotalSavings / self.MonthBudget) + addmonths), 0))\n",
    "        NewBudget_AddMonths = float((self.TotalSavings / ((self.TotalSavings / self.MonthBudget) + addmonths)))\n",
    "        print(\"You're new budget is ${} over the next {} month(s).\\\n",
    "        \\nYou'll need to save ${} every month.\".format(NewBudget_AddMonths, NumberMonths, float(self.MonthBudget-NewBudget_AddMonths)))\n",
    "        \n",
    "    def MaxNewMonths(self, minbudget):\n",
    "        MoreMonths = int(round(((self.TotalSavings / minbudget) - (self.TotalSavings / self.MonthBudget)),0))\n",
    "        print(\"You can support yourself for an additional {} months ({} months total) if you implement your minimum budget.\".format(MoreMonths, int(round(((self.TotalSavings / minbudget)), 0))))\n",
    "        \n",
    "  \n",
    "        "
   ]
  },
  {
   "cell_type": "code",
   "execution_count": 122,
   "metadata": {},
   "outputs": [
    {
     "name": "stdout",
     "output_type": "stream",
     "text": [
      "You have 4 months left.\n"
     ]
    }
   ],
   "source": [
    "plan = FinancePlan()\n",
    "\n",
    "plan.MonthsLeft()"
   ]
  },
  {
   "cell_type": "code",
   "execution_count": 123,
   "metadata": {},
   "outputs": [
    {
     "name": "stdout",
     "output_type": "stream",
     "text": [
      "You're new budget is $2400.0 over the next 5 month(s).        \n",
      "You'll need to save $600.0 every month.\n"
     ]
    }
   ],
   "source": [
    "plan.NewBudget_AddMonths(1)"
   ]
  },
  {
   "cell_type": "code",
   "execution_count": 124,
   "metadata": {},
   "outputs": [
    {
     "name": "stdout",
     "output_type": "stream",
     "text": [
      "You can support yourself for an additional 2 months (6 months total) if you implement your minimum budget.\n"
     ]
    }
   ],
   "source": [
    "plan.MaxNewMonths(2000)"
   ]
  }
 ],
 "metadata": {
  "kernelspec": {
   "display_name": "Python 3",
   "language": "python",
   "name": "python3"
  },
  "language_info": {
   "codemirror_mode": {
    "name": "ipython",
    "version": 3
   },
   "file_extension": ".py",
   "mimetype": "text/x-python",
   "name": "python",
   "nbconvert_exporter": "python",
   "pygments_lexer": "ipython3",
   "version": "3.7.3"
  }
 },
 "nbformat": 4,
 "nbformat_minor": 2
}
