{
 "cells": [
  {
   "cell_type": "markdown",
   "metadata": {},
   "source": [
    "# How many graham crackers to the sun?\n",
    "\n",
    "The info."
   ]
  },
  {
   "cell_type": "code",
   "execution_count": 9,
   "metadata": {},
   "outputs": [],
   "source": [
    "distancetosun_km = 14960000\n",
    "\n",
    "gcracker_length_in = 4\n",
    "gcracker_length_km = convert_in_km(gcracker_length_in)\n",
    "\n",
    "gcracker_width_in = 2\n",
    "gcracker_width_km = convert_in_km(gcracker_width_in)"
   ]
  },
  {
   "cell_type": "markdown",
   "metadata": {},
   "source": [
    "Useful Functions"
   ]
  },
  {
   "cell_type": "code",
   "execution_count": 10,
   "metadata": {},
   "outputs": [],
   "source": [
    "def convert_in_km(inches):\n",
    "    \"\"\"\n",
    "    input inches get kilometers\n",
    "    \"\"\"\n",
    "    in_km = 39370.079\n",
    "    \n",
    "    km = inches/in_km\n",
    "    \n",
    "    return km"
   ]
  },
  {
   "cell_type": "code",
   "execution_count": 11,
   "metadata": {},
   "outputs": [
    {
     "data": {
      "text/plain": [
       "2.5399999832360004e-05"
      ]
     },
     "execution_count": 11,
     "metadata": {},
     "output_type": "execute_result"
    }
   ],
   "source": [
    "convert_in_km(1)"
   ]
  },
  {
   "cell_type": "code",
   "execution_count": 12,
   "metadata": {},
   "outputs": [
    {
     "name": "stdout",
     "output_type": "stream",
     "text": [
      "It would take 147244095460 graham crackers to reach the Sun\n"
     ]
    }
   ],
   "source": [
    "print(\"It would take\", round(distancetosun_km/gcracker_length_km), \"graham crackers to reach the Sun\")"
   ]
  },
  {
   "cell_type": "markdown",
   "metadata": {},
   "source": [
    "# How many workers are needed?\n",
    "\n",
    "To commemorate then centennial of the invention of the S'more, GrahamCrackerCo has been tasked with building a bridge of crackers to the sun. Your job is to estimate how many workers will be needed.\n",
    "\n",
    "The info."
   ]
  },
  {
   "cell_type": "code",
   "execution_count": 25,
   "metadata": {},
   "outputs": [],
   "source": [
    "crackers_tosun_km = round(distancetosun_km/gcracker_length_km)\n",
    "\n",
    "start_date = date(2019, 9, 12)\n",
    "\n",
    "complete_date = date(2027, 8, 5)\n",
    "\n",
    "complete_days = (complete_date - start_date).days\n",
    "\n",
    "blocks_worker_day = 100"
   ]
  },
  {
   "cell_type": "markdown",
   "metadata": {},
   "source": [
    "Useful Functions"
   ]
  },
  {
   "cell_type": "code",
   "execution_count": 15,
   "metadata": {},
   "outputs": [],
   "source": [
    "from datetime import date"
   ]
  },
  {
   "cell_type": "code",
   "execution_count": 36,
   "metadata": {},
   "outputs": [
    {
     "name": "stdout",
     "output_type": "stream",
     "text": [
      "There will need to be 510555 workers to meet the 2027 deadline.\n"
     ]
    }
   ],
   "source": [
    "no_workers = crackers_tosun_km / (complete_days * blocks_worker_day)\n",
    "print(\"There will need to be\", round(no_workers), \"workers to meet the 2027 deadline.\")"
   ]
  }
 ],
 "metadata": {
  "kernelspec": {
   "display_name": "Python 3",
   "language": "python",
   "name": "python3"
  },
  "language_info": {
   "codemirror_mode": {
    "name": "ipython",
    "version": 3
   },
   "file_extension": ".py",
   "mimetype": "text/x-python",
   "name": "python",
   "nbconvert_exporter": "python",
   "pygments_lexer": "ipython3",
   "version": "3.7.3"
  }
 },
 "nbformat": 4,
 "nbformat_minor": 2
}
