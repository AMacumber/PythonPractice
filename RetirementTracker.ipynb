{
 "cells": [
  {
   "cell_type": "markdown",
   "metadata": {},
   "source": [
    "# Given your living expense, your annual savings, age of death and current age, can you estimate when you will retire?"
   ]
  },
  {
   "cell_type": "code",
   "execution_count": 19,
   "metadata": {},
   "outputs": [],
   "source": [
    "def retirementtracker(currentage, deathage, livingexpenses, annualsavings):\n",
    "    for i in range(1, deathage-currentage):\n",
    "        totalsavings = annualsavings * i\n",
    "        if totalsavings >= (deathage - (currentage+i))*livingexpenses:\n",
    "            print(\"You can retire when you're\", currentage+i,\"years old\")\n",
    "            break"
   ]
  },
  {
   "cell_type": "code",
   "execution_count": 20,
   "metadata": {},
   "outputs": [
    {
     "name": "stdout",
     "output_type": "stream",
     "text": [
      "You can retire when you're 65 years old\n"
     ]
    }
   ],
   "source": [
    "retirementtracker(37, 80, 45000, 25000)"
   ]
  },
  {
   "cell_type": "markdown",
   "metadata": {},
   "source": [
    "What about interest on the savings?"
   ]
  },
  {
   "cell_type": "code",
   "execution_count": 30,
   "metadata": {},
   "outputs": [],
   "source": [
    "def retirementtracker(currentage, deathage, livingexpenses, annualsavings, annualinterest):\n",
    "    for i in range(1, deathage-currentage):\n",
    "        totalsavings = (annualsavings * (1.+annualinterest)) * i\n",
    "        if totalsavings >= (deathage - (currentage+i))*livingexpenses:\n",
    "            print(\"You can retire when you're\", currentage+i,\"years old\")\n",
    "            break"
   ]
  },
  {
   "cell_type": "code",
   "execution_count": 31,
   "metadata": {},
   "outputs": [
    {
     "name": "stdout",
     "output_type": "stream",
     "text": [
      "You can retire when you're 65 years old\n"
     ]
    }
   ],
   "source": [
    "retirementtracker(37, 80, 45000, 25000, 0.02)"
   ]
  },
  {
   "cell_type": "markdown",
   "metadata": {},
   "source": [
    "What about compound interest?"
   ]
  },
  {
   "cell_type": "code",
   "execution_count": 42,
   "metadata": {},
   "outputs": [],
   "source": [
    "def retirementtracker(currentage, deathage, livingexpenses, annualsavings, annualinterest):\n",
    "    principal = 0\n",
    "    for i in range(1, deathage-currentage):\n",
    "        totalsavings = (annualsavings * (1.+annualinterest))\n",
    "        #print(i, totalsavings, principal)\n",
    "        if principal >= totalsavings:\n",
    "            principal = (principal + annualsavings) * (1.+annualinterest)\n",
    "        if principal < totalsavings:\n",
    "            principal = totalsavings\n",
    "        if principal >= (deathage - (currentage+i))*livingexpenses:\n",
    "            print(\"You can retire when you're\", currentage+i,\"years old\")\n",
    "            break"
   ]
  },
  {
   "cell_type": "code",
   "execution_count": 43,
   "metadata": {},
   "outputs": [
    {
     "name": "stdout",
     "output_type": "stream",
     "text": [
      "You can retire when you're 62 years old\n"
     ]
    }
   ],
   "source": [
    "retirementtracker(37, 80, 45000, 25000, 0.02)"
   ]
  }
 ],
 "metadata": {
  "kernelspec": {
   "display_name": "Python 3",
   "language": "python",
   "name": "python3"
  },
  "language_info": {
   "codemirror_mode": {
    "name": "ipython",
    "version": 3
   },
   "file_extension": ".py",
   "mimetype": "text/x-python",
   "name": "python",
   "nbconvert_exporter": "python",
   "pygments_lexer": "ipython3",
   "version": "3.7.3"
  }
 },
 "nbformat": 4,
 "nbformat_minor": 2
}
