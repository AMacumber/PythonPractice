{
 "cells": [
  {
   "cell_type": "markdown",
   "metadata": {},
   "source": [
    "We want to show daily balances side by side (Day 1, Day 2). An intern has coding the following, but it isn't working."
   ]
  },
  {
   "cell_type": "code",
   "execution_count": 9,
   "metadata": {},
   "outputs": [],
   "source": [
    "def show_balances(daily_balances):\n",
    "\n",
    "    # do not include -1 because that slice will only have 1 balance, yesterday\n",
    "    for day in range(-3, -1):\n",
    "        balance_slice = daily_balances[day : day + 2]\n",
    "\n",
    "        # use positive number for printing\n",
    "        print(\"slice starting %d days ago: %s\" % (abs(day), balance_slice))"
   ]
  },
  {
   "cell_type": "markdown",
   "metadata": {},
   "source": [
    "Modified code is below. By changing the range it is now independent of the size of daily_balances, while prior code had a restricted range. For clarity added an object called 'nextday'. Then I changed the 'balance_slice' object to a list rather than a slice. By adding -1 to range maximum the last day is not called."
   ]
  },
  {
   "cell_type": "code",
   "execution_count": 27,
   "metadata": {},
   "outputs": [],
   "source": [
    "def show_balances(daily_balances):\n",
    "\n",
    "    # do not include -1 because that slice will only have 1 balance, yesterday\n",
    "    for day in range(0,(len(daily_balances)-1)):\n",
    "        nextday = day + 1\n",
    "        balance_slice = [daily_balances[day], daily_balances[nextday]]\n",
    "\n",
    "        # use positive number for printing\n",
    "        print(\"slice starting %d days ago: %s\" % (abs(day), balance_slice))"
   ]
  },
  {
   "cell_type": "markdown",
   "metadata": {},
   "source": [
    "Define The Input"
   ]
  },
  {
   "cell_type": "code",
   "execution_count": 1,
   "metadata": {},
   "outputs": [],
   "source": [
    "daily_balances = [107.92, 108.67, 109.86, 110.15]"
   ]
  },
  {
   "cell_type": "code",
   "execution_count": 26,
   "metadata": {},
   "outputs": [
    {
     "name": "stdout",
     "output_type": "stream",
     "text": [
      "slice starting 0 days ago: [107.92, 108.67]\n",
      "slice starting 1 days ago: [108.67, 109.86]\n",
      "slice starting 2 days ago: [109.86, 110.15]\n"
     ]
    }
   ],
   "source": [
    "show_balances(daily_balances)"
   ]
  }
 ],
 "metadata": {
  "kernelspec": {
   "display_name": "Python 3",
   "language": "python",
   "name": "python3"
  },
  "language_info": {
   "codemirror_mode": {
    "name": "ipython",
    "version": 3
   },
   "file_extension": ".py",
   "mimetype": "text/x-python",
   "name": "python",
   "nbconvert_exporter": "python",
   "pygments_lexer": "ipython3",
   "version": "3.7.3"
  }
 },
 "nbformat": 4,
 "nbformat_minor": 2
}
