{
 "cells": [
  {
   "cell_type": "markdown",
   "metadata": {},
   "source": [
    "the idea here is to create a data class. then use in a story.\n",
    "\n",
    "it would be interesting if there were items that if placed in the bag could break it."
   ]
  },
  {
   "cell_type": "code",
   "execution_count": 89,
   "metadata": {},
   "outputs": [],
   "source": [
    "class bagofholding(object):\n",
    "    \n",
    "    def __init__(self, Holding = None, Capacity = 10, Material = \"Leather\", Name = \"Bag of Holding\"):\n",
    "        self.Holding = []\n",
    "        self.Capacity = Capacity\n",
    "        self.Material = Material\n",
    "        self.name = Name\n",
    "        \n",
    "   # def inside(self):\n",
    "     #   print(\"You're currently holding the following:\", Holding)\n",
    "     #   print(\"That's {} things, that leaves space for {} more.\".format(len(Holding), \n",
    "      #                                                                  (len(Capacity) - len(Holding))))\n",
    "    \n",
    "    def fillbag(self, time):\n",
    "        garden().pick(time)\n",
    "        \n",
    "class garden(object):\n",
    "    \n",
    "    def __init__(self, applerate = 5):\n",
    "        self.applerate = applerate\n",
    "    \n",
    "    def pick(self, time = 0):\n",
    "        applespicked = self.applerate * time\n",
    "        print(\"You've picked {} apples.\".format(applespicked))\n",
    "        \n",
    "    def walk(self, time = 0):\n",
    "        if time <= 0:\n",
    "            print(\"Maybe you don't have time for a walk?\")\n",
    "            \n",
    "        elif int(time) in range(1,3) :\n",
    "            print(\"Your constitution feels fortified!\")\n",
    "            \n",
    "        else:\n",
    "            print(\"You got pulled into doing some chores\")\n",
    "            print(\"...\")\n",
    "            print(\"...\")\n",
    "            garden.work(self)\n",
    "    \n",
    "    \n",
    "    def work(self, time = 1):\n",
    "        print(\"You wipe your brow. You're not done, but you're getting there.\")\n",
    "    "
   ]
  },
  {
   "cell_type": "code",
   "execution_count": 90,
   "metadata": {},
   "outputs": [],
   "source": [
    "GrandpaGarden = garden()"
   ]
  },
  {
   "cell_type": "code",
   "execution_count": 58,
   "metadata": {},
   "outputs": [
    {
     "name": "stdout",
     "output_type": "stream",
     "text": [
      "You've picked 10 apples.\n"
     ]
    }
   ],
   "source": [
    "GrandpaGarden.pick(2)"
   ]
  },
  {
   "cell_type": "code",
   "execution_count": 59,
   "metadata": {},
   "outputs": [
    {
     "name": "stdout",
     "output_type": "stream",
     "text": [
      "Your constitution feels fortified!\n"
     ]
    }
   ],
   "source": [
    "GrandpaGarden.walk(2)"
   ]
  },
  {
   "cell_type": "code",
   "execution_count": 62,
   "metadata": {},
   "outputs": [
    {
     "name": "stdout",
     "output_type": "stream",
     "text": [
      "You got pulled into doing some chores\n",
      "...\n",
      "...\n",
      "You wipe your brow. You're not done, but you're getting there.\n"
     ]
    }
   ],
   "source": [
    "GrandpaGarden.walk(3)"
   ]
  },
  {
   "cell_type": "code",
   "execution_count": 63,
   "metadata": {},
   "outputs": [
    {
     "name": "stdout",
     "output_type": "stream",
     "text": [
      "You wipe your brow. You're not done, but you're getting there.\n"
     ]
    }
   ],
   "source": [
    "GrandpaGarden.work(5)"
   ]
  },
  {
   "cell_type": "code",
   "execution_count": 92,
   "metadata": {},
   "outputs": [],
   "source": [
    "TheBag = bagofholding()"
   ]
  },
  {
   "cell_type": "code",
   "execution_count": 94,
   "metadata": {},
   "outputs": [
    {
     "name": "stdout",
     "output_type": "stream",
     "text": [
      "You've picked 35 apples.\n"
     ]
    }
   ],
   "source": [
    "TheBag.fillbag(7)"
   ]
  }
 ],
 "metadata": {
  "kernelspec": {
   "display_name": "Python 3",
   "language": "python",
   "name": "python3"
  },
  "language_info": {
   "codemirror_mode": {
    "name": "ipython",
    "version": 3
   },
   "file_extension": ".py",
   "mimetype": "text/x-python",
   "name": "python",
   "nbconvert_exporter": "python",
   "pygments_lexer": "ipython3",
   "version": "3.7.3"
  }
 },
 "nbformat": 4,
 "nbformat_minor": 2
}
