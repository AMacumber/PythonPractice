{
 "cells": [
  {
   "cell_type": "code",
   "execution_count": 14,
   "metadata": {},
   "outputs": [],
   "source": [
    "def printnumber(number):\n",
    "    for i in range(number+1):\n",
    "        count = 1\n",
    "        if i == 0:\n",
    "            count = 97\n",
    "        if (i/3.0).is_integer() == True:\n",
    "            count = count + 1\n",
    "        if (i/5.0).is_integer() == True:\n",
    "            count = count + 3\n",
    "        if count == 1:\n",
    "            print(i)\n",
    "        if count == 2:\n",
    "            print(\"Fizz\")\n",
    "        elif count == 4:\n",
    "            print(\"Buzz\")\n",
    "        elif count == 5:\n",
    "            print(\"FizzBuzz\")"
   ]
  },
  {
   "cell_type": "code",
   "execution_count": 15,
   "metadata": {},
   "outputs": [
    {
     "name": "stdout",
     "output_type": "stream",
     "text": [
      "1\n",
      "2\n",
      "Fizz\n",
      "4\n",
      "Buzz\n",
      "Fizz\n",
      "7\n",
      "8\n",
      "Fizz\n",
      "Buzz\n",
      "11\n",
      "Fizz\n",
      "13\n",
      "14\n",
      "FizzBuzz\n"
     ]
    }
   ],
   "source": [
    "printnumber(15)"
   ]
  }
 ],
 "metadata": {
  "kernelspec": {
   "display_name": "Python 3",
   "language": "python",
   "name": "python3"
  },
  "language_info": {
   "codemirror_mode": {
    "name": "ipython",
    "version": 3
   },
   "file_extension": ".py",
   "mimetype": "text/x-python",
   "name": "python",
   "nbconvert_exporter": "python",
   "pygments_lexer": "ipython3",
   "version": "3.7.3"
  }
 },
 "nbformat": 4,
 "nbformat_minor": 2
}
