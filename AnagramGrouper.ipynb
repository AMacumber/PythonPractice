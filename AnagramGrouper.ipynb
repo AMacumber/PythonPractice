{
 "cells": [
  {
   "cell_type": "code",
   "execution_count": 38,
   "metadata": {},
   "outputs": [],
   "source": [
    "def anagramgrouper(anagrams):\n",
    "    wordlist = []\n",
    "    for i in anagrams:\n",
    "        letterlist = []\n",
    "        for j in i:\n",
    "            letterlist.append(j)\n",
    "        letterlist.sort()\n",
    "        word = \"\".join(letterlist)\n",
    "        wordlist.append(word)\n",
    "        print(wordlist)\n",
    "    for k in wordlist:\n",
    "        count = 1\n",
    "        for l in wordlist:\n",
    "            if k == l:\n",
    "                count = count + 1\n",
    "            if \n",
    "                    \n",
    "                    \n",
    "        "
   ]
  },
  {
   "cell_type": "code",
   "execution_count": 27,
   "metadata": {},
   "outputs": [
    {
     "data": {
      "text/plain": [
       "True"
      ]
     },
     "execution_count": 27,
     "metadata": {},
     "output_type": "execute_result"
    }
   ],
   "source": [
    "['e','a','t'] == ['e','a','t']"
   ]
  },
  {
   "cell_type": "code",
   "execution_count": 17,
   "metadata": {},
   "outputs": [],
   "source": [
    "anagrams = ['tea', 'eat', 'ate', 'bottle']"
   ]
  },
  {
   "cell_type": "code",
   "execution_count": 39,
   "metadata": {},
   "outputs": [
    {
     "name": "stdout",
     "output_type": "stream",
     "text": [
      "['aet']\n",
      "['aet', 'aet']\n",
      "['aet', 'aet', 'aet']\n",
      "['aet', 'aet', 'aet', 'belott']\n"
     ]
    }
   ],
   "source": [
    "anagramgrouper(anagrams)"
   ]
  },
  {
   "cell_type": "markdown",
   "metadata": {},
   "source": [
    "You could do a table where you make dummy variables out of all the letters, those rows with the same combinations get grouped together and then printed as a list."
   ]
  }
 ],
 "metadata": {
  "kernelspec": {
   "display_name": "Python 3",
   "language": "python",
   "name": "python3"
  },
  "language_info": {
   "codemirror_mode": {
    "name": "ipython",
    "version": 3
   },
   "file_extension": ".py",
   "mimetype": "text/x-python",
   "name": "python",
   "nbconvert_exporter": "python",
   "pygments_lexer": "ipython3",
   "version": "3.7.3"
  }
 },
 "nbformat": 4,
 "nbformat_minor": 2
}
