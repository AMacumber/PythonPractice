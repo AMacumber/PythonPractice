{
 "cells": [
  {
   "cell_type": "markdown",
   "metadata": {},
   "source": [
    "# Character Dialogue\n",
    "\n",
    "Design a function that returns various dialogues based on emotion conveyed.\n",
    "\n",
    "The Info."
   ]
  },
  {
   "cell_type": "code",
   "execution_count": 137,
   "metadata": {},
   "outputs": [],
   "source": [
    "dialogue = \"Why the long face?\""
   ]
  },
  {
   "cell_type": "markdown",
   "metadata": {},
   "source": [
    "The tools."
   ]
  },
  {
   "cell_type": "code",
   "execution_count": 138,
   "metadata": {},
   "outputs": [],
   "source": [
    "import re"
   ]
  },
  {
   "cell_type": "markdown",
   "metadata": {},
   "source": [
    "### Problem_1 find \"long face\" in input 001."
   ]
  },
  {
   "cell_type": "code",
   "execution_count": 139,
   "metadata": {},
   "outputs": [
    {
     "data": {
      "text/plain": [
       "'long face?'"
      ]
     },
     "execution_count": 139,
     "metadata": {},
     "output_type": "execute_result"
    }
   ],
   "source": [
    "emotion_trigger = dialogue[dialogue.find('long face'):]\n",
    "emotion_trigger"
   ]
  },
  {
   "cell_type": "markdown",
   "metadata": {},
   "source": [
    "we know have a str with everything after 'long face'"
   ]
  },
  {
   "cell_type": "code",
   "execution_count": 140,
   "metadata": {},
   "outputs": [
    {
     "data": {
      "text/plain": [
       "'long face'"
      ]
     },
     "execution_count": 140,
     "metadata": {},
     "output_type": "execute_result"
    }
   ],
   "source": [
    "emotion_trigger = re.findall(\"\\w\\w\\w\\w\\s\\w\\w\\w\\w\", dialogue[dialogue.find('long face'):])[0]\n",
    "emotion_trigger"
   ]
  },
  {
   "cell_type": "markdown",
   "metadata": {},
   "source": [
    "### 2) Respond to 'sad' trigger\n",
    "\n",
    "The tools."
   ]
  },
  {
   "cell_type": "code",
   "execution_count": 231,
   "metadata": {},
   "outputs": [],
   "source": [
    "emotions = dict([\n",
    "    ('dialogue', dict([\n",
    "        ('sad', \"Why the long face?\"),\n",
    "        ('happy', \"Haha you look happy!\"),\n",
    "        ('neutral', \"How are you?\"),\n",
    "        ('action', \"The humanity! Somthing must be done!\"),\n",
    "        ('surprise', \"Woah!\")\n",
    "    ])),\n",
    "    ('response', dict([\n",
    "        ('sad', \"Mistakes were made\"),\n",
    "        ('happy', \"Found a penny! Do you know how rare they are these days!?\"),\n",
    "        ('neutral', \"It goes. You?\"),\n",
    "        ('action', \"By the leaves of maple it will be done!\"),\n",
    "        ('surprise', \"Slap me with a beavers tail\")\n",
    "    ])),\n",
    "    ('trigger', dict([\n",
    "        ('sad', \"long face\"),\n",
    "        ('happy', \"look happy\"),\n",
    "        ('neutral', \"How are you\"),\n",
    "        ('action', \"must be done\"),\n",
    "        ('surprised', \"woah\")\n",
    "    ]))\n",
    "])\n",
    "\n",
    "# this is way to specific; needs to be generalized to any response\n",
    "def emotiontrigger(dialogue):\n",
    "    return re.findall(\"\\w\\w\\w\\w\\s\\w\\w\\w\\w\", dialogue[dialogue.find('long face'):])[0]\n",
    "\n",
    "# this an compare to any trigger and return appropriate response\n",
    "def emotionalresponse(dialogue, range = emotions):\n",
    "    emotion_trigger = emotiontrigger(dialogue)\n",
    "    \n",
    "    for ele in range['trigger']:\n",
    "        if emotion_trigger == range['trigger'][ele]:\n",
    "            print(emotions['response'][ele])"
   ]
  },
  {
   "cell_type": "code",
   "execution_count": 144,
   "metadata": {},
   "outputs": [
    {
     "name": "stdout",
     "output_type": "stream",
     "text": [
      "long face\n",
      "Mistakes were made\n"
     ]
    }
   ],
   "source": [
    "print(emotiontrigger(dialogue))\n",
    "emotionalresponse(dialogue)"
   ]
  },
  {
   "cell_type": "markdown",
   "metadata": {},
   "source": [
    "### 3) Respond to trigger\n",
    "\n",
    "The issue."
   ]
  },
  {
   "cell_type": "code",
   "execution_count": null,
   "metadata": {},
   "outputs": [],
   "source": [
    "# this is way to specific; needs to be generalized to any response\n",
    "def emotiontrigger(dialogue):\n",
    "    return re.findall(\"\\w\\w\\w\\w\\s\\w\\w\\w\\w\", dialogue[dialogue.find('long face'):])[0]"
   ]
  },
  {
   "cell_type": "markdown",
   "metadata": {},
   "source": [
    "The fix."
   ]
  },
  {
   "cell_type": "code",
   "execution_count": 251,
   "metadata": {},
   "outputs": [],
   "source": [
    "emotions = dict([\n",
    "    ('dialogue', dict([\n",
    "        ('sad', \"Why the long face?\"),\n",
    "        ('happy', \"Haha you look happy!\"),\n",
    "        ('neutral', \"How are you?\"),\n",
    "        ('action', \"The humanity! Something must be done!\"),\n",
    "        ('surprised', \"Woah!\")\n",
    "    ])),\n",
    "    ('response', dict([\n",
    "        ('sad', \"Mistakes were made\"),\n",
    "        ('happy', \"Found a penny! Do you know how rare they are these days!?\"),\n",
    "        ('neutral', \"It goes. You?\"),\n",
    "        ('action', \"By the leaves of maple it will be done!\"),\n",
    "        ('surprised', \"Slap me with a beavers tail\")\n",
    "    ])),\n",
    "    ('trigger', dict([\n",
    "        ('sad', \"long face\"),\n",
    "        ('happy', \"look happy\"),\n",
    "        ('neutral', \"How are you\"),\n",
    "        ('action', \"must be done\"),\n",
    "        ('surprised', \"Woah\")\n",
    "    ]))\n",
    "])"
   ]
  },
  {
   "cell_type": "code",
   "execution_count": 266,
   "metadata": {},
   "outputs": [],
   "source": [
    "# these will work as long as its in the emotions dictionary\n",
    "def emotiontrigger(dialogue, emotions = emotions):\n",
    "    for ele in emotions['trigger']:\n",
    "        if dialogue.find(emotions['trigger'][ele]) != -1:\n",
    "            #emotion_trigger = [(emotions['trigger'][ele])]\n",
    "            return [(emotions['trigger'][ele])]\n",
    "            \n",
    "def emotionalresponse(dialogue, emotions = emotions):\n",
    "    emotion_trigger = emotiontrigger(dialogue, emotions)\n",
    "    \n",
    "    for ele in emotions['trigger']:\n",
    "        if emotion_trigger == [emotions['trigger'][ele]]:\n",
    "            return emotions['response'][ele]"
   ]
  },
  {
   "cell_type": "markdown",
   "metadata": {},
   "source": [
    "The test."
   ]
  },
  {
   "cell_type": "code",
   "execution_count": 273,
   "metadata": {},
   "outputs": [
    {
     "name": "stdout",
     "output_type": "stream",
     "text": [
      "Why the long face? ... Mistakes were made\n",
      "Haha you look happy! ... Found a penny! Do you know how rare they are these days!?\n",
      "How are you? ... It goes. You?\n",
      "The humanity! Somthing must be done! ... By the leaves of maple it will be done!\n",
      "Woah! ... Slap me with a beavers tail\n"
     ]
    }
   ],
   "source": [
    "for ele in emotions['dialogue']:\n",
    "    print(emotions['dialogue'][ele], \"...\", emotionalresponse(emotions['dialogue'][ele]))"
   ]
  },
  {
   "cell_type": "markdown",
   "metadata": {},
   "source": [
    "### What's next?\n",
    "\n",
    "* Play with probabilities of a response, basically modifying the likelihood of different responses to reflect personality.\n",
    "* Character's give canned responses unless trigger words are used\n",
    "* Through a sequence or frequency of trigger words easter responses."
   ]
  }
 ],
 "metadata": {
  "kernelspec": {
   "display_name": "Python 3",
   "language": "python",
   "name": "python3"
  },
  "language_info": {
   "codemirror_mode": {
    "name": "ipython",
    "version": 3
   },
   "file_extension": ".py",
   "mimetype": "text/x-python",
   "name": "python",
   "nbconvert_exporter": "python",
   "pygments_lexer": "ipython3",
   "version": "3.7.3"
  }
 },
 "nbformat": 4,
 "nbformat_minor": 2
}
